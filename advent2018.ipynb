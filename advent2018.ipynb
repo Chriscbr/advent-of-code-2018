{
 "cells": [
  {
   "cell_type": "markdown",
   "metadata": {},
   "source": [
    "# Advent of Code 2018\n",
    "\n",
    "Hey there! For this year of Advent of Code, I'm going to be trying to journal my progress through the month's problems using a Python notebook, inspired by the similar notebooks of [Peter Norvig](https://github.com/norvig/pytudes). I've considered doing other things this year, like perhaps using the Advent of Code as an excuse to learn a new language, but last year I only completed the first 8, so I figured I should focus on first trying to complete all of this year's problems before getting ahead of myself. (Plus, the easier challenges make for good interview problem practice, so it fits in with my current goals).\n",
    "\n",
    "Since I'm very comfortable with Python, I'm going to try to be competitive with timing (as the time to write code is the main bottleneck typically - not the program execution), so I will try to finish on the leaderboard. But this is my first time using an Python notebook, so there's a chance this will slow me down. Better hope for the best!"
   ]
  },
  {
   "cell_type": "markdown",
   "metadata": {},
   "source": [
    "## Day 0: Imports and utilities\n",
    "\n",
    "Following the inspiration of Peter Norvig, here I will try to put some code and imports that I think could be useful. For now I'll just include libraries and functions I've used a decent amount."
   ]
  },
  {
   "cell_type": "code",
   "execution_count": 4,
   "metadata": {},
   "outputs": [],
   "source": [
    "import bisect\n",
    "import math\n",
    "import random\n",
    "import re\n",
    "\n",
    "from collections import Counter, defaultdict\n",
    "from heapq import heappush, heappop\n",
    "from itertools import accumulate, cycle, takewhile\n",
    "\n",
    "# source: https://stackoverflow.com/a/30558049\n",
    "def unique_permutations(elements):\n",
    "    if len(elements) == 1:\n",
    "        yield (elements[0],)\n",
    "    else:\n",
    "        unique_elements = set(elements)\n",
    "        for first_element in unique_elements:\n",
    "            remaining_elements = list(elements)\n",
    "            remaining_elements.remove(first_element)\n",
    "            for sub_permutation in unique_permutations(remaining_elements):\n",
    "                yield (first_element,) + sub_permutation"
   ]
  },
  {
   "cell_type": "markdown",
   "metadata": {},
   "source": [
    "## [Day 1](https://adventofcode.com/2018/day/1): Chronal Calibration\n",
    "\n",
    "This problem was very straight forward. Getting a tight time is just a matter of having your environment setup, and fortunately I don't think using jupyter really slowed me down much, as I already had prepared some starter code in advance for reading in input.\n",
    "\n",
    "Unfortunately, I took 1:48 to solve the first star, but to get in the top 100 I would have needed 1:32; and I took 6:32 on the second star, but to get in the top 100 I would have needed 5:28. Besides reading the problem as a bottleneck, during the second problem I was planning to loop over indices but ended up looping over values, so I ended up with an incorrect answer costing me a minute. Also, my code definitely looks pretty sloppy..."
   ]
  },
  {
   "cell_type": "code",
   "execution_count": 2,
   "metadata": {},
   "outputs": [
    {
     "name": "stdout",
     "output_type": "stream",
     "text": [
      "556\n",
      "448\n"
     ]
    }
   ],
   "source": [
    "# first star\n",
    "\n",
    "with open('input/input1.txt') as f:\n",
    "    X = list(map(int, f.read().split()))\n",
    "\n",
    "print(sum(X))\n",
    "\n",
    "# second star\n",
    "\n",
    "freqs = set()\n",
    "curr = 0\n",
    "while True:\n",
    "    found = False\n",
    "    for x in X:\n",
    "        curr += x\n",
    "        if curr in freqs:\n",
    "            found = True\n",
    "            print(curr)\n",
    "            break\n",
    "        freqs.add(curr)\n",
    "    if found:\n",
    "        break"
   ]
  },
  {
   "cell_type": "markdown",
   "metadata": {},
   "source": [
    "Here's how I would refactor the second star with a few extra minutes to spare. The interesting thing about this kind of problem is that it seems simple enough that it should be doable with a Python one-or-two-liner, but I don't have an exact intuition for it (though I'm sure someone on Reddit has done it). That said, I think for most people this type of problem feels easier to solve this with iterative methods than functional programming."
   ]
  },
  {
   "cell_type": "code",
   "execution_count": 33,
   "metadata": {},
   "outputs": [
    {
     "name": "stdout",
     "output_type": "stream",
     "text": [
      "448\n"
     ]
    }
   ],
   "source": [
    "# second star\n",
    "\n",
    "freqs = set()\n",
    "for x in accumulate(cycle(X)):\n",
    "    if x in freqs:\n",
    "        print(x)\n",
    "        break\n",
    "    freqs.add(x)"
   ]
  }
 ],
 "metadata": {
  "kernelspec": {
   "display_name": "Python 3",
   "language": "python",
   "name": "python3"
  },
  "language_info": {
   "codemirror_mode": {
    "name": "ipython",
    "version": 3
   },
   "file_extension": ".py",
   "mimetype": "text/x-python",
   "name": "python",
   "nbconvert_exporter": "python",
   "pygments_lexer": "ipython3",
   "version": "3.6.5"
  }
 },
 "nbformat": 4,
 "nbformat_minor": 2
}
